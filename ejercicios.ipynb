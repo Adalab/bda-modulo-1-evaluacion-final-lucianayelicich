{
 "cells": [
  {
   "cell_type": "code",
   "execution_count": 252,
   "id": "943bd97e",
   "metadata": {},
   "outputs": [],
   "source": [
    "#defino las estructuras principales\n",
    "\n",
    "inventario = []\n",
    "\n",
    "clientes = {}\n",
    "\n",
    "ventas_totales = 0.0"
   ]
  },
  {
   "cell_type": "markdown",
   "id": "19cd3871",
   "metadata": {},
   "source": [
    " 1. `agregar_producto(nombre, precio, cantidad)`: Esta función agrega un producto al inventario o actualiza su cantidad si ya existe. \n",
    " Debe recibir el nombre, precio y cantidad del producto como parámetros.       \n",
    " - Itera a través del inventario y compara los nombres de los productos con el nombre proporcionado.      \n",
    " - Si el producto ya existe, actualiza la cantidad.      \n",
    " - Si no existe, agrega un nuevo producto al inventario. \n"
   ]
  },
  {
   "cell_type": "code",
   "execution_count": 253,
   "id": "11781a26",
   "metadata": {},
   "outputs": [],
   "source": [
    "def agregar_producto(nombre, precio, cantidad):\n",
    "    for producto in inventario: #itera y busca el producto en el inventario\n",
    "        if producto[\"nombre\"] == nombre: #chequea que el nombre del producto coincida con el ingresado\n",
    "            producto[\"cantidad\"] += cantidad #actualiza la cantidad\n",
    "            print(f\"Producto existente. Se ha actualizado el stock en {cantidad} unidades.\")\n",
    "            return\n",
    "        \n",
    "    inventario.append({\"nombre\": nombre, \"precio\": precio, \"cantidad\": cantidad})\n",
    "    print(\"Producto agregado exitosamente\") #crea la información del producto               \n",
    "        \n",
    "    "
   ]
  },
  {
   "cell_type": "code",
   "execution_count": 227,
   "id": "5a5ed85c",
   "metadata": {},
   "outputs": [
    {
     "name": "stdout",
     "output_type": "stream",
     "text": [
      "Producto agregado exitosamente\n"
     ]
    }
   ],
   "source": [
    "agregar_producto(\"camisa\", 20, 5) #agrego producto nuevo"
   ]
  },
  {
   "cell_type": "code",
   "execution_count": 228,
   "id": "4b04ada0",
   "metadata": {},
   "outputs": [
    {
     "name": "stdout",
     "output_type": "stream",
     "text": [
      "Producto existente. Se ha actualizado el stock en 10 unidades.\n"
     ]
    }
   ],
   "source": [
    "agregar_producto(\"camisa\", 20, 10) #agrego producto existente"
   ]
  },
  {
   "cell_type": "code",
   "execution_count": 229,
   "id": "997c81aa",
   "metadata": {},
   "outputs": [
    {
     "data": {
      "text/plain": [
       "[{'nombre': 'camisa', 'precio': 20, 'cantidad': 15}]"
      ]
     },
     "execution_count": 229,
     "metadata": {},
     "output_type": "execute_result"
    }
   ],
   "source": [
    "inventario #corroboro que se haya agregado correctamente"
   ]
  },
  {
   "cell_type": "markdown",
   "id": "38ea7cf1",
   "metadata": {},
   "source": [
    "2. `ver_inventario()`: Muestra el inventario de productos con sus detalles.      \n",
    "- Utiliza un bucle `for` para recorrer el inventario.      \n",
    "- Imprime los detalles (nombre, precio, cantidad) de cada producto.      \n",
    "- Debería verse:          \n",
    "```python          Nombre: Camisa, Precio: $20, Cantidad: 50          Nombre: Pantalón, Precio: $30, Cantidad: 30          Nombre: Zapatos, Precio: $50, Cantidad: 40          Nombre: Camisa, Precio: $20, Cantidad: 50 "
   ]
  },
  {
   "cell_type": "code",
   "execution_count": 230,
   "id": "466d5898",
   "metadata": {},
   "outputs": [],
   "source": [
    "def ver_inventario(nombre, precio, cantidad):\n",
    "    for producto in inventario: #recorre el inventario\n",
    "        nombre = producto[\"nombre\"] #guarda los detalles del producto\n",
    "        precio = producto[\"precio\"]\n",
    "        cantidad = producto[\"cantidad\"]\n",
    "        print(f\"Nombre: {nombre}, Precio: ${precio}, Cantidad: {cantidad}\") #imprime los detalles a partir de la información dada"
   ]
  },
  {
   "cell_type": "code",
   "execution_count": 231,
   "id": "4edb4e50",
   "metadata": {},
   "outputs": [
    {
     "name": "stdout",
     "output_type": "stream",
     "text": [
      "Nombre: camisa, Precio: $20, Cantidad: 15\n"
     ]
    }
   ],
   "source": [
    "ver_inventario(\"camisa\", 20, 5) #corroboro que se imprima correctamente"
   ]
  },
  {
   "cell_type": "markdown",
   "id": "710a7004",
   "metadata": {},
   "source": [
    "3. `buscar_producto(nombre)`: Busca un producto en el inventario por nombre y muestra sus detalles si se encuentra. Debe recibir el nombre del producto como parámetro.     \n",
    "- Utiliza un bucle `for` para recorrer el inventario.      \n",
    "- Compara los nombres de los productos con el nombre proporcionado.      \n",
    "- Si se encuentra el producto, imprime sus detalles.     \n",
    "- Debe mostrar:          ```python          Nombre: Camisa, Precio: $20, Cantidad: 40 "
   ]
  },
  {
   "cell_type": "code",
   "execution_count": 232,
   "id": "360cc307",
   "metadata": {},
   "outputs": [],
   "source": [
    "def buscar_producto(nombre):\n",
    "    for producto in inventario: #itera y busca el producto en el inventario\n",
    "        if producto[\"nombre\"] == nombre: #chequea la coincidencia con el nombre dado\n",
    "            nombre = producto[\"nombre\"] #guarda los detalles del producto\n",
    "            precio = producto[\"precio\"]\n",
    "            cantidad = producto[\"cantidad\"] \n",
    "            print(f\"Nombre: {nombre}, Precio: ${precio}, Cantidad: {cantidad}\") #imprime los detalles del producto\n",
    "\n",
    "    "
   ]
  },
  {
   "cell_type": "code",
   "execution_count": 233,
   "id": "cdde7d88",
   "metadata": {},
   "outputs": [
    {
     "name": "stdout",
     "output_type": "stream",
     "text": [
      "Nombre: camisa, Precio: $20, Cantidad: 15\n"
     ]
    }
   ],
   "source": [
    "buscar_producto(\"camisa\")"
   ]
  },
  {
   "cell_type": "markdown",
   "id": "86c7b798",
   "metadata": {},
   "source": [
    " 4. `actualizar_stock(nombre, cantidad)`: Actualiza el stock de un producto en el inventario. Debe recibir el nombre del producto y la cantidad a agregar o quitar como parámetros.     \n",
    " - Utiliza un bucle `for` para recorrer el inventario.  \n",
    " - Busca el producto por nombre.  \n",
    " - Actualiza la cantidad según la entrada del usuario.     \n",
    " - Si el producto no esta en el inventario muestra un mensaje indicándolo.  "
   ]
  },
  {
   "cell_type": "code",
   "execution_count": 234,
   "id": "11f4f4f2",
   "metadata": {},
   "outputs": [],
   "source": [
    "def actualizar_stock(nombre, cantidad):\n",
    "     for producto in inventario: #itera y busca el producto en el inventario\n",
    "        if producto[\"nombre\"] == nombre: #chequea la coincidencia del nombre\n",
    "            producto[\"cantidad\"] += cantidad #agrega o resta la cantidad segun la operacion que iongrese el usuario\n",
    "            print(f\"Stock de {nombre} actualizado correctamente. Nueva cantidad: {producto[\"cantidad\"]}\") #informa que actualizó el stock\n",
    "            return \n",
    "        \n",
    "     print(\"Producto no encontrado\") #mensaje si el producto no está en el inventario\n",
    "            \n",
    "    "
   ]
  },
  {
   "cell_type": "code",
   "execution_count": 235,
   "id": "9c696b22",
   "metadata": {},
   "outputs": [
    {
     "data": {
      "text/plain": [
       "[{'nombre': 'camisa', 'precio': 20, 'cantidad': 15}]"
      ]
     },
     "execution_count": 235,
     "metadata": {},
     "output_type": "execute_result"
    }
   ],
   "source": [
    "inventario"
   ]
  },
  {
   "cell_type": "code",
   "execution_count": 236,
   "id": "0e157bf4",
   "metadata": {},
   "outputs": [
    {
     "name": "stdout",
     "output_type": "stream",
     "text": [
      "Stock de camisa actualizado correctamente. Nueva cantidad: 25\n"
     ]
    }
   ],
   "source": [
    "actualizar_stock(\"camisa\", 10) #actualizo el stock de camisas sumando"
   ]
  },
  {
   "cell_type": "code",
   "execution_count": 237,
   "id": "fa116192",
   "metadata": {},
   "outputs": [
    {
     "data": {
      "text/plain": [
       "[{'nombre': 'camisa', 'precio': 20, 'cantidad': 25}]"
      ]
     },
     "execution_count": 237,
     "metadata": {},
     "output_type": "execute_result"
    }
   ],
   "source": [
    "inventario"
   ]
  },
  {
   "cell_type": "code",
   "execution_count": 238,
   "id": "fdee95b0",
   "metadata": {},
   "outputs": [
    {
     "name": "stdout",
     "output_type": "stream",
     "text": [
      "Producto no encontrado\n"
     ]
    }
   ],
   "source": [
    "actualizar_stock(\"remera\", 10) #actualizo el stock de camisas restando"
   ]
  },
  {
   "cell_type": "code",
   "execution_count": 239,
   "id": "8545574c",
   "metadata": {},
   "outputs": [
    {
     "name": "stdout",
     "output_type": "stream",
     "text": [
      "Producto no encontrado\n"
     ]
    }
   ],
   "source": [
    "actualizar_stock(\"pantalon\", -5) #pruebo con un producto inexistente en el inventario"
   ]
  },
  {
   "cell_type": "markdown",
   "id": "5f7fa004",
   "metadata": {},
   "source": [
    " 5. `eliminar_producto(nombre)`: Elimina un producto del inventario por nombre. Debe recibir el nombre del producto como parámetro.      \n",
    " - Utiliza un bucle `for` para recorrer el inventario.      \n",
    " - Busca el producto por nombre.      \n",
    " - Elimina el producto del inventario si existe.      \n",
    " - Si el producto no esta en el inventario muestra un mensaje indicándolo.  "
   ]
  },
  {
   "cell_type": "code",
   "execution_count": 240,
   "id": "e0dda747",
   "metadata": {},
   "outputs": [],
   "source": [
    "def eliminar_producto(nombre):\n",
    "    for producto in inventario: #recorre el inventario\n",
    "        if producto[\"nombre\"] == nombre: #chequea la coincidencia con el nombre dado\n",
    "            inventario.remove(producto) #remueve el producto\n",
    "            return"
   ]
  },
  {
   "cell_type": "code",
   "execution_count": 241,
   "id": "79187163",
   "metadata": {},
   "outputs": [
    {
     "data": {
      "text/plain": [
       "[{'nombre': 'camisa', 'precio': 20, 'cantidad': 25}]"
      ]
     },
     "execution_count": 241,
     "metadata": {},
     "output_type": "execute_result"
    }
   ],
   "source": [
    "inventario #corroboro las existencias en el inventario"
   ]
  },
  {
   "cell_type": "code",
   "execution_count": 242,
   "id": "0b6d5a4d",
   "metadata": {},
   "outputs": [],
   "source": [
    "eliminar_producto(\"camisa\") #elimino el producto"
   ]
  },
  {
   "cell_type": "code",
   "execution_count": 243,
   "id": "02204874",
   "metadata": {},
   "outputs": [
    {
     "data": {
      "text/plain": [
       "[]"
      ]
     },
     "execution_count": 243,
     "metadata": {},
     "output_type": "execute_result"
    }
   ],
   "source": [
    "inventario #corroboro que se ha eliminado correctamente"
   ]
  },
  {
   "cell_type": "markdown",
   "id": "d25b3fbf",
   "metadata": {},
   "source": [
    " 6. `calcular_valor_inventario()`: Calcula y muestra el valor total del inventario.      \n",
    " - Utiliza un bucle for para calcular el valor total del inventario.      \n",
    " - Itera a través del inventario y suma el valor de cada producto (precio x cantidad). \n",
    " Es decir, calcula el valor total del inventario. Ejemplo:          ```python          # si tenemos 5 camisas que valen 5 euros           # y 10 calcetines que valen 1 euro          # este método te tiene que devolver: 35 euros          valor_camisas = 5 * 5          valor_calcetines = 10 * 1          valor_camisas + valor_calcetines = 35"
   ]
  },
  {
   "cell_type": "code",
   "execution_count": 244,
   "id": "f1612f12",
   "metadata": {},
   "outputs": [],
   "source": [
    "def calcular_valor_inventario():\n",
    "    valor_total = 0 #defino una variable que irá almacenando los valores\n",
    "    for producto in inventario:\n",
    "        valor_producto = producto[\"cantidad\"] * producto[\"precio\"] #defino cuánto vale cada producto\n",
    "        valor_total += valor_producto #sumo el valor de cada producto al total\n",
    "    \n",
    "    print(f\"El valor total del inventario es {valor_total}\") #imprimo el valor total\n",
    "\n"
   ]
  },
  {
   "cell_type": "code",
   "execution_count": 245,
   "id": "de48d342",
   "metadata": {},
   "outputs": [
    {
     "data": {
      "text/plain": [
       "[]"
      ]
     },
     "execution_count": 245,
     "metadata": {},
     "output_type": "execute_result"
    }
   ],
   "source": [
    "inventario"
   ]
  },
  {
   "cell_type": "code",
   "execution_count": 246,
   "id": "d7c4ec3c",
   "metadata": {},
   "outputs": [
    {
     "name": "stdout",
     "output_type": "stream",
     "text": [
      "Producto agregado exitosamente\n"
     ]
    }
   ],
   "source": [
    "agregar_producto(\"pantalon\", 20, 10)"
   ]
  },
  {
   "cell_type": "code",
   "execution_count": 247,
   "id": "fe4d8435",
   "metadata": {},
   "outputs": [
    {
     "name": "stdout",
     "output_type": "stream",
     "text": [
      "Producto agregado exitosamente\n"
     ]
    }
   ],
   "source": [
    "agregar_producto(\"remera\", 5, 15)"
   ]
  },
  {
   "cell_type": "code",
   "execution_count": 248,
   "id": "aebf049c",
   "metadata": {},
   "outputs": [
    {
     "name": "stdout",
     "output_type": "stream",
     "text": [
      "El valor total del inventario es 275\n"
     ]
    }
   ],
   "source": [
    "calcular_valor_inventario()"
   ]
  },
  {
   "cell_type": "markdown",
   "id": "02b330e8",
   "metadata": {},
   "source": [
    " 7. `realizar_compra()`: Permite a un cliente realizar una compra seleccionando productos del inventario. Debe interactuar con el cliente para seleccionar productos y calcular el costo total de la compra.      \n",
    " - Utiliza un bucle `while` para permitir al cliente realizar múltiples compras.      \n",
    " - Muestra el inventario y solicita al cliente ingresar el nombre del producto que desea comprar.      \n",
    " - Registra los productos seleccionados en un carrito y actualiza el inventario. \n",
    " - Calcula el costo total de la compra. "
   ]
  },
  {
   "cell_type": "code",
   "execution_count": 249,
   "id": "94c0e589",
   "metadata": {},
   "outputs": [],
   "source": [
    "def ver_inventario(): #defino una variable que muestre el inventario \n",
    "    print(\"Inventario disponible\")\n",
    "    for producto in inventario:\n",
    "        print(f\"Nombre: {producto['nombre']}, Precio: ${producto['precio']}, Cantidad: {producto['cantidad']}\")\n",
    "\n",
    "    "
   ]
  },
  {
   "cell_type": "code",
   "execution_count": 250,
   "id": "258aadb0",
   "metadata": {},
   "outputs": [
    {
     "name": "stdout",
     "output_type": "stream",
     "text": [
      "Inventario disponible\n",
      "Nombre: pantalon, Precio: $20, Cantidad: 10\n",
      "Nombre: remera, Precio: $5, Cantidad: 15\n"
     ]
    }
   ],
   "source": [
    "ver_inventario()"
   ]
  },
  {
   "cell_type": "code",
   "execution_count": 251,
   "id": "caa92602",
   "metadata": {},
   "outputs": [
    {
     "ename": "SyntaxError",
     "evalue": "expected 'except' or 'finally' block (3516654145.py, line 15)",
     "output_type": "error",
     "traceback": [
      "\u001b[0;36m  Cell \u001b[0;32mIn[251], line 15\u001b[0;36m\u001b[0m\n\u001b[0;31m    else:\u001b[0m\n\u001b[0m    ^\u001b[0m\n\u001b[0;31mSyntaxError\u001b[0m\u001b[0;31m:\u001b[0m expected 'except' or 'finally' block\n"
     ]
    }
   ],
   "source": [
    "def realizar_compra():\n",
    "\n",
    "    carrito = 0 #creo un carrito que almacene los productos\n",
    "    total_compra = 0 #creo una variable que que almacene el monto total de la compra\n",
    "\n",
    "    while True:\n",
    "        ver_inventario()\n",
    "        nombre_producto = input(\"Ingrese el producto que desea o salir para finalizar\")\n",
    "        if producto['nombre'] == nombre_producto:\n",
    "            try:\n",
    "                cantidad = int(input(f\"Ingrese la cantidad de '{producto['nombre']}' que desea comprar: \"))\n",
    "                break\n",
    "\n",
    "\n",
    "        else:\n",
    "            nombre_producto == \"salir\":\n",
    "            break\n",
    "\n",
    "\n"
   ]
  },
  {
   "cell_type": "code",
   "execution_count": null,
   "id": "20660c85",
   "metadata": {},
   "outputs": [
    {
     "name": "stdout",
     "output_type": "stream",
     "text": [
      "\n",
      "Inventario disponible:\n",
      "Nombre: pantalon, Precio: $20, Cantidad: 10\n",
      "Nombre: remera, Precio: $5, Cantidad: 15\n",
      "\n",
      "Resumen de compra:\n",
      "Total a pagar: $0\n"
     ]
    }
   ],
   "source": [
    "realizar_compra()"
   ]
  },
  {
   "cell_type": "markdown",
   "id": "40024fda",
   "metadata": {},
   "source": [
    "8. `procesar_pago()`: Procesa el pago de una compra, calcula el cambio y \n",
    "muestra un mensaje de confirmación. \n",
    " \n",
    "     - Utiliza un bloque `try...except` para manejar excepciones. \n",
    " \n",
    "     - Solicita al cliente ingresar la cantidad total y la cantidad de pago \n",
    "usando un input. \n",
    " \n",
    "     - Calcula el cambio y muestra un mensaje de pago exitoso o un error en \n",
    "caso de monto insuficiente."
   ]
  },
  {
   "cell_type": "code",
   "execution_count": 254,
   "id": "a63a83e9",
   "metadata": {},
   "outputs": [],
   "source": [
    "def procesar_pago():\n",
    "    try:\n",
    "        cantidad_total = int(input(\"Ingrese el monto total de la compra: \")) #defino el monto total a pagar a través de lo que informe el cliente\n",
    "        cantidad_pago = int(input(\"Ingrese el monto con el que va a pagar: \")) #defino el monto con el que va a pagar el cliente\n",
    "        \n",
    "        if cantidad_pago >= cantidad_total: #chequea las equivalencias entre ambos montos\n",
    "            cambio = cantidad_pago - cantidad_total #defino el vuelto\n",
    "            print(f\"Pago exitoso, su vuelto es $ {cambio}.\")\n",
    "        else: #establezco el error cuando el monto con el que se paga es insuficiente\n",
    "            print(\"El monto ingresado es insuficiente para saldar el total\")\n",
    "    except ValueError: #establezco un error cuando no se ingrese un monyto válido\n",
    "        print(\"El monto ingresado no es válido\") \n"
   ]
  },
  {
   "cell_type": "code",
   "execution_count": 256,
   "id": "5ef6a578",
   "metadata": {},
   "outputs": [
    {
     "name": "stdout",
     "output_type": "stream",
     "text": [
      "Pago exitoso, su vuelto es $ 20.\n"
     ]
    }
   ],
   "source": [
    "procesar_pago() #ingresamos un valor de compra de 30 y que pagamos con 50"
   ]
  },
  {
   "cell_type": "code",
   "execution_count": null,
   "id": "f30f4ac3",
   "metadata": {},
   "outputs": [
    {
     "name": "stdout",
     "output_type": "stream",
     "text": [
      "El monto ingresado es insuficiente para saldar el total\n"
     ]
    }
   ],
   "source": [
    "procesar_pago() #ingresamos un valor de compra de 30 y que pagamos con 20"
   ]
  },
  {
   "cell_type": "code",
   "execution_count": null,
   "id": "7f207452",
   "metadata": {},
   "outputs": [
    {
     "name": "stdout",
     "output_type": "stream",
     "text": [
      "El monto ingresado no es válido\n"
     ]
    }
   ],
   "source": [
    "procesar_pago() #ingresamos un valor de 25.5"
   ]
  },
  {
   "cell_type": "markdown",
   "id": "9f8bbc95",
   "metadata": {},
   "source": [
    "9. `agregar_cliente(nombre, email)`: Agrega un nuevo cliente al registro de \n",
    "clientes. Debe recibir el nombre y el correo electrónico del cliente como \n",
    "parámetros. \n",
    " \n",
    "     - Agrega un cliente al diccionario de clientes con su nombre y correo \n",
    "electrónico. \n",
    " \n",
    " "
   ]
  },
  {
   "cell_type": "code",
   "execution_count": null,
   "id": "ec38986c",
   "metadata": {},
   "outputs": [],
   "source": [
    "def agregar_cliente(nombre,email): \n",
    "    if nombre not in clientes: #chequeo que el cliente no esté en la base de datos\n",
    "        clientes[nombre] = {\"email\": email, \"compras\": []} #guado la información\n",
    "        print(f\"Cliente {nombre} agregado con éxito\")\n",
    "\n",
    "    else: #establezco la opción si el nombre ya está en la base\n",
    "        print(\"Cliente ya existe\")\n"
   ]
  },
  {
   "cell_type": "code",
   "execution_count": null,
   "id": "b1613ccf",
   "metadata": {},
   "outputs": [
    {
     "data": {
      "text/plain": [
       "{}"
      ]
     },
     "execution_count": 155,
     "metadata": {},
     "output_type": "execute_result"
    }
   ],
   "source": [
    "clientes #chequeo que clientes esté vacío"
   ]
  },
  {
   "cell_type": "code",
   "execution_count": null,
   "id": "73bd6cc4",
   "metadata": {},
   "outputs": [
    {
     "name": "stdout",
     "output_type": "stream",
     "text": [
      "Cliente Luciana agregado con éxito\n"
     ]
    }
   ],
   "source": [
    "agregar_cliente(\"Luciana\", \"yelicichluciana@gmail.com\") #agrego un cliente nuevo"
   ]
  },
  {
   "cell_type": "code",
   "execution_count": null,
   "id": "c9188df3",
   "metadata": {},
   "outputs": [
    {
     "name": "stdout",
     "output_type": "stream",
     "text": [
      "Cliente ya existe\n"
     ]
    }
   ],
   "source": [
    "agregar_cliente(\"Luciana\", \"yelicichluciana@gmail.com\") #agrego un cliente existente"
   ]
  },
  {
   "cell_type": "code",
   "execution_count": null,
   "id": "3ffeb1c3",
   "metadata": {},
   "outputs": [
    {
     "data": {
      "text/plain": [
       "{'Luciana': {'email': 'yelicichluciana@gmail.com', 'compras': []}}"
      ]
     },
     "execution_count": 158,
     "metadata": {},
     "output_type": "execute_result"
    }
   ],
   "source": [
    "clientes #chequeo la base de datos"
   ]
  },
  {
   "cell_type": "markdown",
   "id": "8a53b287",
   "metadata": {},
   "source": [
    "10. `ver_clientes()`: Muestra la lista de clientes registrados con sus \n",
    "nombres y correos electrónicos. \n",
    " \n",
    "     - Utiliza un bucle `for` para recorrer la base de datos de clientes. \n",
    " \n",
    "     - Imprime los detalles de cada cliente (nombre y correo electrónico)."
   ]
  },
  {
   "cell_type": "code",
   "execution_count": 257,
   "id": "108c1827",
   "metadata": {},
   "outputs": [],
   "source": [
    "def ver_clientes(): \n",
    "    for nombre, datos in clientes.items(): #recorro la base de clientes\n",
    "        print(f\"Nombre: {nombre}, Email: {datos[\"email\"]}\") #imprimo los detalles del cliente\n"
   ]
  },
  {
   "cell_type": "code",
   "execution_count": 258,
   "id": "cfaf7acb",
   "metadata": {},
   "outputs": [],
   "source": [
    "ver_clientes() #veo qué clientes hay guardados"
   ]
  },
  {
   "cell_type": "code",
   "execution_count": 259,
   "id": "5730ce75",
   "metadata": {},
   "outputs": [
    {
     "name": "stdout",
     "output_type": "stream",
     "text": [
      "Cliente Nicolas agregado con éxito\n"
     ]
    }
   ],
   "source": [
    "agregar_cliente(\"Nicolas\", \"nikolhas@gmail.com\") #agrego otro cliente"
   ]
  },
  {
   "cell_type": "code",
   "execution_count": 260,
   "id": "be5532fd",
   "metadata": {},
   "outputs": [
    {
     "name": "stdout",
     "output_type": "stream",
     "text": [
      "Nombre: Nicolas, Email: nikolhas@gmail.com\n"
     ]
    }
   ],
   "source": [
    "ver_clientes() #chequeo que muestre todos los clienbtes guardados"
   ]
  },
  {
   "cell_type": "markdown",
   "id": "a1755474",
   "metadata": {},
   "source": [
    " 11. `registrar_compra(nombre_cliente, carrito)`: Registra una compra para \n",
    "un cliente, actualiza las ventas totales y agrega la compra al historial del \n",
    "cliente. Debe recibir el nombre del cliente y el carrito de compras como \n",
    "parámetros. \n",
    " \n",
    "     - Busca al cliente en el diccionario de clientes. \n",
    " \n",
    "     - Si el cliente no esta en el diccionario de clientes, muestra que no \n",
    "se puede realizar la acción por que el cliente no está en el diccionario.  \n",
    " \n",
    "     - Calcula el total de la compra y registra la compra, incluyendo los \n",
    "productos y el total. \n",
    " \n",
    "     - Ejemplo: \n",
    " \n",
    "         ```python \n",
    "         carrito_cliente1 = {\"Camisa\": {\"precio\": 20, \"cantidad\": 3}} \n",
    "         tienda.registrar_compra(\"Cliente1\", carrito_cliente1) \n",
    "         ``` "
   ]
  },
  {
   "cell_type": "code",
   "execution_count": 261,
   "id": "38b26780",
   "metadata": {},
   "outputs": [],
   "source": [
    "def registrar_compra(nombre_cliente, carrito):\n",
    "    total = 0\n",
    "        \n",
    "    if nombre_cliente not in clientes: #busca coincidencias con el nombre\n",
    "        print(\"El cliente no está registrado.\") #muestra que no puede realizar la acción porque el cliente no está en el diccionario\n",
    "        return #termina la función\n",
    "    \n",
    "    for producto in carrito:\n",
    "        precio = carrito[producto][\"precio\"]\n",
    "        cantidad = carrito[producto][\"cantidad\"]\n",
    "        total += precio * cantidad\n",
    "\n",
    "    nueva_compra = {\"productos\": carrito, \"total\": total}\n",
    "\n",
    "\n",
    "    clientes[nombre_cliente][\"compras\"].append(nueva_compra)\n",
    "    print(f\"Compra realizada con éxtito. Total: {total}\")\n",
    "        \n"
   ]
  },
  {
   "cell_type": "code",
   "execution_count": 262,
   "id": "61489856",
   "metadata": {},
   "outputs": [
    {
     "name": "stdout",
     "output_type": "stream",
     "text": [
      "El cliente no está registrado.\n"
     ]
    }
   ],
   "source": [
    "registrar_compra(\"Luciana\", {\"Camisa\": {\"precio\": 20, \"cantidad\": 3}} )"
   ]
  },
  {
   "cell_type": "code",
   "execution_count": 263,
   "id": "f605cb81",
   "metadata": {},
   "outputs": [
    {
     "name": "stdout",
     "output_type": "stream",
     "text": [
      "Compra realizada con éxtito. Total: 50\n"
     ]
    }
   ],
   "source": [
    "registrar_compra(\"Nicolas\", {\"Pantalon\": {\"precio\": 10, \"cantidad\": 5}})"
   ]
  },
  {
   "cell_type": "code",
   "execution_count": 264,
   "id": "597c256b",
   "metadata": {},
   "outputs": [
    {
     "name": "stdout",
     "output_type": "stream",
     "text": [
      "El cliente no está registrado.\n"
     ]
    }
   ],
   "source": [
    "registrar_compra(\"Carolina\", \"carrito\")"
   ]
  },
  {
   "cell_type": "markdown",
   "id": "487bbbe7",
   "metadata": {},
   "source": [
    "12. `ver_compras_cliente(nombre_cliente)`: Muestra el historial de compras \n",
    "de un cliente. Debe recibir el nombre del cliente como parámetro. \n",
    " \n",
    "     - Busca al cliente en el diccionario de clientes. \n",
    " \n",
    "     - Muestra las compras realizadas por el cliente, incluyendo detalles de \n",
    "productos y totales."
   ]
  },
  {
   "cell_type": "code",
   "execution_count": 265,
   "id": "8e94b459",
   "metadata": {},
   "outputs": [],
   "source": [
    "def ver_compras_cliente(nombre_cliente):\n",
    "    if nombre_cliente not in clientes: #chequeo si el cliente está en la base\n",
    "        print(\"El cliente no está registrado.\") #muestra que no puede realizar la acción porque el cliente no está en el diccionario\n",
    "        return #termina la función\n",
    "    #si el nombre si está en la base, ingresa a la función\n",
    "    compras = clientes[nombre_cliente].get(\"compras\", []) #obtiene el valor de la clave compras\n",
    "\n",
    "    if not compras: #establezco que hacer en caso que no tenga compras\n",
    "        print(f\"{nombre_cliente} no tiene compras registradas.\") #informo que no tiene compras\n",
    "        return #termina la funcion\n",
    "    \n",
    "    for compra in compras: #si hay compras registradas enla clave copras ingresa a la funcion\n",
    "        print(f\"Total: ${compra['total']}\") #imprime el monto total de la compra\n",
    "        print(\"Productos:\") #imprime los productos comprados\n",
    "\n",
    "    for producto_nombre, detalles in compra[\"productos\"].items(): #ingresa dentro de los productos de cada compra\n",
    "        precio = detalles[\"precio\"] #muestra el precio de casa uno\n",
    "        cantidad = detalles[\"cantidad\"] #muestra la cantidad\n",
    "        print(f\"{producto_nombre}: Precio ${precio}, Cantidad {cantidad}\") #imprime el prducto, el precio y la cantidad comprada\n",
    "          \n"
   ]
  },
  {
   "cell_type": "code",
   "execution_count": 266,
   "id": "efc6cd34",
   "metadata": {},
   "outputs": [
    {
     "data": {
      "text/plain": [
       "{'Nicolas': {'email': 'nikolhas@gmail.com',\n",
       "  'compras': [{'productos': {'Pantalon': {'precio': 10, 'cantidad': 5}},\n",
       "    'total': 50}]}}"
      ]
     },
     "execution_count": 266,
     "metadata": {},
     "output_type": "execute_result"
    }
   ],
   "source": [
    "clientes"
   ]
  },
  {
   "cell_type": "code",
   "execution_count": 267,
   "id": "80f26892",
   "metadata": {},
   "outputs": [
    {
     "name": "stdout",
     "output_type": "stream",
     "text": [
      "El cliente no está registrado.\n"
     ]
    }
   ],
   "source": [
    "ver_compras_cliente(\"Lucrecia\")"
   ]
  },
  {
   "cell_type": "code",
   "execution_count": 268,
   "id": "39a4e28a",
   "metadata": {},
   "outputs": [
    {
     "name": "stdout",
     "output_type": "stream",
     "text": [
      "Total: $50\n",
      "Productos:\n",
      "Pantalon: Precio $10, Cantidad 5\n"
     ]
    }
   ],
   "source": [
    "ver_compras_cliente(\"Nicolas\")"
   ]
  },
  {
   "cell_type": "markdown",
   "id": "a6cc5da8",
   "metadata": {},
   "source": [
    "13. `calcular_ventas_totales()`: Muestra las ventas totales de la tienda. \n",
    " \n",
    "     - Suma los totales de todas las compras realizadas y muestra el total \n",
    "de ventas totales en la tienda."
   ]
  },
  {
   "cell_type": "code",
   "execution_count": 269,
   "id": "dd2217ef",
   "metadata": {},
   "outputs": [],
   "source": [
    "def calcular_ventas_totales():\n",
    "    total_ventas = 0\n",
    "    \n",
    "    for cliente in clientes: #recorro cada cliente\n",
    "        for compra in clientes[cliente][\"compras\"]: #cheque las compras realizadas por ese cliente\n",
    "            total_ventas += compra[\"total\"] #itero y sumo las compras al total\n",
    "\n",
    "    print(f\"Ventas totales de la tienda: ${total_ventas}\") #imprimo informando el total de compras\n"
   ]
  },
  {
   "cell_type": "code",
   "execution_count": 270,
   "id": "c09442b9",
   "metadata": {},
   "outputs": [
    {
     "name": "stdout",
     "output_type": "stream",
     "text": [
      "Ventas totales de la tienda: $50\n"
     ]
    }
   ],
   "source": [
    "calcular_ventas_totales()"
   ]
  }
 ],
 "metadata": {
  "kernelspec": {
   "display_name": "base",
   "language": "python",
   "name": "python3"
  },
  "language_info": {
   "codemirror_mode": {
    "name": "ipython",
    "version": 3
   },
   "file_extension": ".py",
   "mimetype": "text/x-python",
   "name": "python",
   "nbconvert_exporter": "python",
   "pygments_lexer": "ipython3",
   "version": "3.12.7"
  }
 },
 "nbformat": 4,
 "nbformat_minor": 5
}
